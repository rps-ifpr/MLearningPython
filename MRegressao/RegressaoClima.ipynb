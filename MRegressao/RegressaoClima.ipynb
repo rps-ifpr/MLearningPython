{
 "cells": [
  {
   "cell_type": "markdown",
   "metadata": {},
   "source": [
    "# <font color='blue'>Machine Learning</font>\n",
    "\n",
    "# <font color='blue'>Regressão</font>"
   ]
  },
  {
   "cell_type": "markdown",
   "metadata": {},
   "source": [
    "Parte 1: Código para a fórmula básica da regressão linear simples e calculo de coeficientes. \n",
    "\n",
    "Parte 2: Modelo de previsões."
   ]
  },
  {
   "cell_type": "markdown",
   "metadata": {},
   "source": [
    "O dataset abaixo contém dados sobre..."
   ]
  },
  {
   "cell_type": "code",
   "execution_count": 1,
   "metadata": {},
   "outputs": [],
   "source": [
    "# Imports\n",
    "import numpy as np\n",
    "import pandas as pd\n",
    "import matplotlib.pyplot as plt\n",
    "import statsmodels.formula.api as smf"
   ]
  },
  {
   "cell_type": "code",
   "execution_count": 3,
   "metadata": {},
   "outputs": [
    {
     "data": {
      "text/html": [
       "<div>\n",
       "<style scoped>\n",
       "    .dataframe tbody tr th:only-of-type {\n",
       "        vertical-align: middle;\n",
       "    }\n",
       "\n",
       "    .dataframe tbody tr th {\n",
       "        vertical-align: top;\n",
       "    }\n",
       "\n",
       "    .dataframe thead th {\n",
       "        text-align: right;\n",
       "    }\n",
       "</style>\n",
       "<table border=\"1\" class=\"dataframe\">\n",
       "  <thead>\n",
       "    <tr style=\"text-align: right;\">\n",
       "      <th></th>\n",
       "      <th>ano</th>\n",
       "      <th>mes</th>\n",
       "      <th>chuva</th>\n",
       "      <th>evaporacao</th>\n",
       "      <th>insolacao</th>\n",
       "      <th>tempmed</th>\n",
       "      <th>umidrel</th>\n",
       "      <th>tempmax_abs</th>\n",
       "      <th>tempmax_med</th>\n",
       "      <th>tempmin_abs</th>\n",
       "      <th>tempmin_med</th>\n",
       "    </tr>\n",
       "  </thead>\n",
       "  <tbody>\n",
       "    <tr>\n",
       "      <th>0</th>\n",
       "      <td>1975.0</td>\n",
       "      <td>1.0</td>\n",
       "      <td>136.0</td>\n",
       "      <td>134.9</td>\n",
       "      <td>224.7</td>\n",
       "      <td>24.2</td>\n",
       "      <td>70.9</td>\n",
       "      <td>34.4</td>\n",
       "      <td>30.7</td>\n",
       "      <td>14.6</td>\n",
       "      <td>18.9</td>\n",
       "    </tr>\n",
       "    <tr>\n",
       "      <th>1</th>\n",
       "      <td>1975.0</td>\n",
       "      <td>2.0</td>\n",
       "      <td>242.9</td>\n",
       "      <td>104.4</td>\n",
       "      <td>195.3</td>\n",
       "      <td>25.3</td>\n",
       "      <td>76.9</td>\n",
       "      <td>36.2</td>\n",
       "      <td>30.4</td>\n",
       "      <td>16.8</td>\n",
       "      <td>21.1</td>\n",
       "    </tr>\n",
       "    <tr>\n",
       "      <th>2</th>\n",
       "      <td>1975.0</td>\n",
       "      <td>3.0</td>\n",
       "      <td>125.1</td>\n",
       "      <td>101.1</td>\n",
       "      <td>192.8</td>\n",
       "      <td>23.9</td>\n",
       "      <td>79.1</td>\n",
       "      <td>33.7</td>\n",
       "      <td>29.9</td>\n",
       "      <td>17.3</td>\n",
       "      <td>19.7</td>\n",
       "    </tr>\n",
       "    <tr>\n",
       "      <th>3</th>\n",
       "      <td>1975.0</td>\n",
       "      <td>4.0</td>\n",
       "      <td>98.9</td>\n",
       "      <td>156.8</td>\n",
       "      <td>201.5</td>\n",
       "      <td>21.0</td>\n",
       "      <td>75.0</td>\n",
       "      <td>30.6</td>\n",
       "      <td>26.8</td>\n",
       "      <td>13.4</td>\n",
       "      <td>16.8</td>\n",
       "    </tr>\n",
       "    <tr>\n",
       "      <th>4</th>\n",
       "      <td>1975.0</td>\n",
       "      <td>5.0</td>\n",
       "      <td>66.3</td>\n",
       "      <td>95.5</td>\n",
       "      <td>203.6</td>\n",
       "      <td>18.1</td>\n",
       "      <td>72.1</td>\n",
       "      <td>29.0</td>\n",
       "      <td>23.8</td>\n",
       "      <td>9.0</td>\n",
       "      <td>14.3</td>\n",
       "    </tr>\n",
       "  </tbody>\n",
       "</table>\n",
       "</div>"
      ],
      "text/plain": [
       "      ano  mes  chuva  evaporacao  insolacao  tempmed  umidrel  tempmax_abs  \\\n",
       "0  1975.0  1.0  136.0       134.9      224.7     24.2     70.9         34.4   \n",
       "1  1975.0  2.0  242.9       104.4      195.3     25.3     76.9         36.2   \n",
       "2  1975.0  3.0  125.1       101.1      192.8     23.9     79.1         33.7   \n",
       "3  1975.0  4.0   98.9       156.8      201.5     21.0     75.0         30.6   \n",
       "4  1975.0  5.0   66.3        95.5      203.6     18.1     72.1         29.0   \n",
       "\n",
       "   tempmax_med  tempmin_abs  tempmin_med  \n",
       "0         30.7         14.6         18.9  \n",
       "1         30.4         16.8         21.1  \n",
       "2         29.9         17.3         19.7  \n",
       "3         26.8         13.4         16.8  \n",
       "4         23.8          9.0         14.3  "
      ]
     },
     "execution_count": 3,
     "metadata": {},
     "output_type": "execute_result"
    }
   ],
   "source": [
    "# Carregando o dataset\n",
    "df = pd.read_csv('Mdados/dados1975-2015.csv')\n",
    "df.head()"
   ]
  },
  {
   "cell_type": "code",
   "execution_count": 4,
   "metadata": {},
   "outputs": [],
   "source": [
    "# Definindo variáveis x e y\n",
    "X = df['ano'].values\n",
    "Y = df['chuva'].values"
   ]
  },
  {
   "cell_type": "code",
   "execution_count": 5,
   "metadata": {},
   "outputs": [
    {
     "data": {
      "image/png": "[encoded data removed]",
      "text/plain": [
       "<Figure size 432x288 with 1 Axes>"
      ]
     },
     "metadata": {
      "needs_background": "light"
     },
     "output_type": "display_data"
    }
   ],
   "source": [
    "#Chamando a Função e mostrando o grafico \n",
    "plt.scatter(X,Y)\n",
    "plt.show()"
   ]
  },
  {
   "cell_type": "code",
   "execution_count": 6,
   "metadata": {},
   "outputs": [
    {
     "data": {
      "image/png": "[encoded data removed]",
      "text/plain": [
       "<Figure size 432x288 with 1 Axes>"
      ]
     },
     "metadata": {
      "needs_background": "light"
     },
     "output_type": "display_data"
    }
   ],
   "source": [
    "plt.plot(X,Y)\n",
    "plt.show()"
   ]
  },
  {
   "cell_type": "code",
   "execution_count": 7,
   "metadata": {},
   "outputs": [
    {
     "name": "stdout",
     "output_type": "stream",
     "text": [
      "                            OLS Regression Results                            \n",
      "==============================================================================\n",
      "Dep. Variable:            tempmax_abs   R-squared:                       0.451\n",
      "Model:                            OLS   Adj. R-squared:                  0.450\n",
      "Method:                 Least Squares   F-statistic:                     402.7\n",
      "Date:                Mon, 05 Dec 2022   Prob (F-statistic):           8.07e-66\n",
      "Time:                        18:49:20   Log-Likelihood:                -1064.4\n",
      "No. Observations:                 492   AIC:                             2133.\n",
      "Df Residuals:                     490   BIC:                             2141.\n",
      "Df Model:                           1                                         \n",
      "Covariance Type:            nonrobust                                         \n",
      "===============================================================================\n",
      "                  coef    std err          t      P>|t|      [0.025      0.975]\n",
      "-------------------------------------------------------------------------------\n",
      "Intercept      29.5468      0.191    154.444      0.000      29.171      29.923\n",
      "tempmin_abs     0.3342      0.017     20.067      0.000       0.301       0.367\n",
      "==============================================================================\n",
      "Omnibus:                        1.107   Durbin-Watson:                   1.168\n",
      "Prob(Omnibus):                  0.575   Jarque-Bera (JB):                0.922\n",
      "Skew:                           0.089   Prob(JB):                        0.631\n",
      "Kurtosis:                       3.115   Cond. No.                         23.2\n",
      "==============================================================================\n",
      "\n",
      "Notes:\n",
      "[1] Standard Errors assume that the covariance matrix of the errors is correctly specified.\n"
     ]
    }
   ],
   "source": [
    "# Criando o Modelo de Regressão\n",
    "estimativa = smf.ols(formula = 'tempmax_abs ~ tempmin_abs', data = df)\n",
    "\n",
    "# Treinando o Modelo de Regressão\n",
    "modelo = estimativa.fit()\n",
    "\n",
    "# Imprimindo o resumo do modelo\n",
    "print(modelo.summary())"
   ]
  },
  {
   "cell_type": "code",
   "execution_count": null,
   "metadata": {},
   "outputs": [],
   "source": []
  },
  {
   "cell_type": "markdown",
   "metadata": {
    "collapsed": true
   },
   "source": [
    "# Fim"
   ]
  },
  {
   "cell_type": "markdown",
   "metadata": {},
   "source": [
    "### Obrigado "
   ]
  },
  {
   "cell_type": "code",
   "execution_count": null,
   "metadata": {},
   "outputs": [],
   "source": []
  }
 ],
 "metadata": {
  "kernelspec": {
   "display_name": "Python 3 (ipykernel)",
   "language": "python",
   "name": "python3"
  },
  "language_info": {
   "codemirror_mode": {
    "name": "ipython",
    "version": 3
   },
   "file_extension": ".py",
   "mimetype": "text/x-python",
   "name": "python",
   "nbconvert_exporter": "python",
   "pygments_lexer": "ipython3",
   "version": "3.9.7"
  }
 },
 "nbformat": 4,
 "nbformat_minor": 2
}
