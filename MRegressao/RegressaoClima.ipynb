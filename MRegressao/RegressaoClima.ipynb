{
 "cells": [
  {
   "cell_type": "markdown",
   "metadata": {},
   "source": [
    "# <font color='blue'>Machine Learning em dados de estação meterológica local</font>\n"
   ]
  },
  {
   "cell_type": "markdown",
   "metadata": {},
   "source": [
    "### Análise Exploratória de Dados \n",
    "-Engenharia de Atributos \n",
    "-Pré-Processamento de Dados\n",
    "-Aplicação de Modelos de ML"
   ]
  },
  {
   "cell_type": "code",
   "execution_count": null,
   "metadata": {},
   "outputs": [],
   "source": [
    "# Imports\n",
    "import numpy as np\n",
    "import pandas as pd\n",
    "import matplotlib.pyplot as plt\n",
    "import statsmodels.formula.api as smf\n",
    "%matplotlib inline"
   ]
  },
  {
   "cell_type": "markdown",
   "metadata": {},
   "source": [
    "# Carregando o Dataset"
   ]
  },
  {
   "cell_type": "markdown",
   "metadata": {},
   "source": [
    "O dataset abaixo contém dados sobre..."
   ]
  },
  {
   "cell_type": "code",
   "execution_count": null,
   "metadata": {},
   "outputs": [],
   "source": [
    "df = pd.read_csv('Mdados/dados.csv', sep=';')"
   ]
  },
  {
   "cell_type": "code",
   "execution_count": null,
   "metadata": {},
   "outputs": [],
   "source": [
    "df.shape"
   ]
  },
  {
   "cell_type": "code",
   "execution_count": null,
   "metadata": {},
   "outputs": [],
   "source": [
    "# Atributo size (total de registros considerando cada coluna)\n",
    "df.size"
   ]
  },
  {
   "cell_type": "code",
   "execution_count": null,
   "metadata": {},
   "outputs": [],
   "source": [
    "df.head(5)"
   ]
  },
  {
   "cell_type": "code",
   "execution_count": null,
   "metadata": {},
   "outputs": [],
   "source": [
    "df.sample(5)"
   ]
  },
  {
   "cell_type": "code",
   "execution_count": null,
   "metadata": {},
   "outputs": [],
   "source": [
    "df.tail(5)"
   ]
  },
  {
   "cell_type": "code",
   "execution_count": null,
   "metadata": {},
   "outputs": [],
   "source": [
    "df.info"
   ]
  },
  {
   "cell_type": "code",
   "execution_count": null,
   "metadata": {},
   "outputs": [],
   "source": [
    "# Criamos uma variável com a lista de nomes de colunas\n",
    "temp_hum = ['Indoor Temperature(°C)', 'Indoor Humidity(%)', 'Outdoor Temperature(°C)', 'Outdoor Humidity(%)']"
   ]
  },
  {
   "cell_type": "code",
   "execution_count": null,
   "metadata": {},
   "outputs": [],
   "source": [
    "type(temp_hum)"
   ]
  },
  {
   "cell_type": "code",
   "execution_count": null,
   "metadata": {},
   "outputs": [],
   "source": [
    "df[temp_hum]"
   ]
  },
  {
   "cell_type": "markdown",
   "metadata": {},
   "source": [
    "# Separação das Variáveis Categóricas e Numéricas"
   ]
  },
  {
   "cell_type": "code",
   "execution_count": null,
   "metadata": {},
   "outputs": [],
   "source": [
    "df.columns"
   ]
  },
  {
   "cell_type": "code",
   "execution_count": null,
   "metadata": {},
   "outputs": [],
   "source": [
    "df.dtypes"
   ]
  },
  {
   "cell_type": "code",
   "execution_count": null,
   "metadata": {},
   "outputs": [],
   "source": [
    "# Lista de colunas categóricas\n",
    "cats = ['Time','Outdoor Temperature(°C)',\n",
    "        'Outdoor Humidity(%)','Wind Speed(km/h)','Gust(km/h)',\n",
    "        'Wind Direction','DewPoint(°C)','WindChill(°C)'\n",
    "       ]"
   ]
  },
  {
   "cell_type": "code",
   "execution_count": null,
   "metadata": {},
   "outputs": [],
   "source": [
    "# Lista de colunas categóricas\n",
    "nums = ['n','Interval',\n",
    "        'Indoor Temperature(°C)',\n",
    "        'Indoor Humidity(%)','Relative Pressure(mmHg)',\n",
    "        'Absolute Pressure(mmHg)','Hour Rainfall(mm)',\n",
    "        '24 Hour Rainfall(mm)',\n",
    "        'Week Rainfall(mm)','Month Rainfall(mm)',\n",
    "        'Total Rainfall(mm)'\n",
    "       ]"
   ]
  },
  {
   "cell_type": "code",
   "execution_count": null,
   "metadata": {},
   "outputs": [],
   "source": [
    "# Resumo das variáveis categoricas\n",
    "df[cats].describe()"
   ]
  },
  {
   "cell_type": "code",
   "execution_count": null,
   "metadata": {},
   "outputs": [],
   "source": [
    "df[nums].describe()"
   ]
  },
  {
   "cell_type": "markdown",
   "metadata": {},
   "source": [
    "### A função convert_comma é definida para converter pontos em vírgulas. Em seguida, o método applymap é usado para aplicar a função a todas células do DataFrame. Observe que o método applymap deve ser aplicado a cada célula individual, por isso o nome \"map\" (mapear)."
   ]
  },
  {
   "cell_type": "code",
   "execution_count": null,
   "metadata": {},
   "outputs": [],
   "source": [
    "def convert_comma(value):\n",
    "    return str(value).replace(\".\", \",\")\n",
    "\n",
    "df = df.applymap(convert_comma)"
   ]
  },
  {
   "cell_type": "code",
   "execution_count": null,
   "metadata": {},
   "outputs": [],
   "source": [
    "df.head(5)"
   ]
  },
  {
   "cell_type": "code",
   "execution_count": null,
   "metadata": {},
   "outputs": [],
   "source": [
    "novos_nomes_variaveis = {\n",
    "    \"n\" : \"N\",\n",
    "    \"Time\": \"Data\",\n",
    "    \"Interval\": \"Intervalo\",\n",
    "    \"Indoor Temperature(°C)\": \"Temp_int \",\n",
    "    \"Indoor Humidity(%)\": \"Humi_int \",\n",
    "    \"Outdoor Temperature(°C)\": \"Temp_ext\",\n",
    "    \"Outdoor Humidity(%)\": \"Humi_ext\",\n",
    "    \"Relative Pressure(mmHg)\": \"Pres_rel\",\n",
    "    \"Absolute Pressure(mmHg)\": \"Pres_abs\",\n",
    "    \"Wind Speed(km/h)\": \"Vel_vento\",\n",
    "    \"Gust(km/h);\": \"Temporal\",\n",
    "    \"Wind Direction\": \"Dir_vento \",\n",
    "    \"DewPoint(°C)\": \"Orvalho\",\n",
    "    \"WindChill(°C)\": \"Sens_termica\",\n",
    "    \"Hour Rainfall(mm)\": \"Hr_chuva\",\n",
    "    \"24 Hour Rainfall(mm)\": \"Prec_24h\",\n",
    "    \"Week Rainfall(mm)\": \" Prec_sema\",\n",
    "    \"Month Rainfall(mm)\": \"Prec_mes\",\n",
    "    \"Total Rainfall(mm)\": \"Prec_total\",\n",
    "}"
   ]
  },
  {
   "cell_type": "code",
   "execution_count": null,
   "metadata": {},
   "outputs": [],
   "source": [
    "df.rename(columns=novos_nomes_variaveis, inplace=False)"
   ]
  },
  {
   "cell_type": "code",
   "execution_count": null,
   "metadata": {},
   "outputs": [],
   "source": [
    "# Definindo variáveis x e y\n",
    "X = df['Time'].values\n",
    "Y = df['Outdoor Temperature(°C)'].values"
   ]
  },
  {
   "cell_type": "code",
   "execution_count": null,
   "metadata": {},
   "outputs": [],
   "source": [
    "#Chamando a Função e mostrando o grafico \n",
    "plt.scatter(X,Y)\n",
    "plt.show()"
   ]
  },
  {
   "cell_type": "code",
   "execution_count": null,
   "metadata": {},
   "outputs": [],
   "source": [
    "plt.plot(X,Y)\n",
    "plt.show()"
   ]
  },
  {
   "cell_type": "code",
   "execution_count": null,
   "metadata": {},
   "outputs": [],
   "source": [
    "# Criando o Modelo de Regressão\n",
    "estimativa = smf.ols(formula = 'tempmax_abs ~ tempmin_abs', data = df)\n",
    "\n",
    "# Treinando o Modelo de Regressão\n",
    "modelo = estimativa.fit()\n",
    "\n",
    "# Imprimindo o resumo do modelo\n",
    "print(modelo.summary())"
   ]
  },
  {
   "cell_type": "code",
   "execution_count": null,
   "metadata": {},
   "outputs": [],
   "source": []
  }
 ],
 "metadata": {
  "kernelspec": {
   "display_name": "Python 3 (ipykernel)",
   "language": "python",
   "name": "python3"
  },
  "language_info": {
   "codemirror_mode": {
    "name": "ipython",
    "version": 3
   },
   "file_extension": ".py",
   "mimetype": "text/x-python",
   "name": "python",
   "nbconvert_exporter": "python",
   "pygments_lexer": "ipython3",
   "version": "3.9.7"
  }
 },
 "nbformat": 4,
 "nbformat_minor": 2
}
